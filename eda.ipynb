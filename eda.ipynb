{
 "cells": [
  {
   "metadata": {},
   "cell_type": "markdown",
   "source": [
    "# 🏙️ Central Tendency for Housing Data\n",
    "\n",
    "In this project, you will explore the **mean**, **median**, and **mode** 📊 of one-bedroom apartment costs in three of the five New York City boroughs:\n",
    "- 🏠 **Brooklyn**\n",
    "- 🏢 **Manhattan**\n",
    "- 🌳 **Queens**\n",
    "\n",
    "---\n",
    "\n",
    "## 🔎 What You’ll Do\n",
    "- Calculate the **average (mean)** 💵 cost of apartments\n",
    "- Find the **median** 📈 value to understand the middle range\n",
    "- Determine the **mode** 🔄 to see the most common prices\n",
    "\n",
    "---\n",
    "\n",
    "## 📝 Goal\n",
    "Using your findings, you will:\n",
    "- Draw **conclusions** about the **cost of living** in each borough 🏘️\n",
    "- Discuss an important **assumption** we make when comparing differences between boroughs 🤔\n",
    "\n",
    "---\n",
    "\n",
    "## 📂 Data Source\n",
    "We worked with **Streeteasy.com** 🖥️ to collect this data.\n",
    "\n",
    "While we focus on **one-bedroom apartments**, the dataset includes much more information 📑 if you’d like to ask your own questions about the **Brooklyn**, **Manhattan**, and **Queens** housing markets.\n"
   ],
   "id": "91ff77299d0b2831"
  },
  {
   "metadata": {},
   "cell_type": "markdown",
   "source": "## Import Libraries",
   "id": "d155f4bd5d03b3d0"
  },
  {
   "cell_type": "code",
   "id": "initial_id",
   "metadata": {
    "collapsed": true,
    "ExecuteTime": {
     "end_time": "2025-08-21T07:49:04.636487Z",
     "start_time": "2025-08-21T07:49:04.626604Z"
    }
   },
   "source": [
    "import numpy as np\n",
    "import pandas as pd\n",
    "import matplotlib.pyplot as plt\n",
    "from scipy import stats"
   ],
   "outputs": [],
   "execution_count": 80
  }
 ],
 "metadata": {
  "kernelspec": {
   "display_name": "Python 3",
   "language": "python",
   "name": "python3"
  },
  "language_info": {
   "codemirror_mode": {
    "name": "ipython",
    "version": 2
   },
   "file_extension": ".py",
   "mimetype": "text/x-python",
   "name": "python",
   "nbconvert_exporter": "python",
   "pygments_lexer": "ipython2",
   "version": "2.7.6"
  }
 },
 "nbformat": 4,
 "nbformat_minor": 5
}
